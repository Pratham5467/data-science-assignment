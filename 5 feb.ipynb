{
 "cells": [
  {
   "cell_type": "markdown",
   "id": "d9da28cb",
   "metadata": {},
   "source": [
    "# 1.Explain Class and Object with respect to Object-Oriented Programming. Give a suitable example.\n",
    " \n",
    "A class is a user-defined blueprint or prototype from which objects are created. Classes provide a means of bundling data and functionality together. Creating a new class creates a new type of object, allowing new instances of that type to be made. Each class instance can have attributes attached to it for maintaining its state. Class instances can also have methods for modifying their state.\n",
    "Class creates a user-defined data structure, which holds its own data members and member functions, which can be accessed and used by creating an instance of that class.\n",
    "1.Classes are created by keyword class.\n",
    "2.Attributes are the variables that belong to a class.\n",
    "3.Attributes are always public and can be accessed using the dot (.) operator.\n",
    "\n",
    "An Object is an instance of a Class. A class is like a blueprint while an instance is a copy of the class with actual values.\n",
    "\n",
    "An object consists of : \n",
    "1.State: It is represented by the attributes of an object. It also reflects the properties of an object.\n",
    "2.Behaviour: It is represented by the methods of an object. It also reflects the response of an object to other objects.\n",
    "3.Identity: It gives a unique name to an object and enables one object to interact with other objects.\n",
    "When an object of a class is created, the class is said to be instantiated. All the instances share the attributes and the behavior of the class. But the values of those attributes, i.e. the state are unique for each object."
   ]
  },
  {
   "cell_type": "code",
   "execution_count": 16,
   "id": "ef8f8863",
   "metadata": {},
   "outputs": [
    {
     "name": "stdout",
     "output_type": "stream",
     "text": [
      "mammal\n",
      "dog\n",
      "I'm a mammal\n",
      "I'm a dog\n"
     ]
    }
   ],
   "source": [
    "class Dog:\n",
    "    x = \"mammal\"\n",
    "    y = \"dog\"\n",
    "\n",
    "    def animal(self):\n",
    "        print(\"I'm a\", self.x)\n",
    "        print(\"I'm a\", self.y)\n",
    "Rodger = Dog()\n",
    "print(Rodger.x)\n",
    "print(Rodger.y)\n",
    "Rodger.animal()\n"
   ]
  },
  {
   "cell_type": "markdown",
   "id": "18991572",
   "metadata": {},
   "source": [
    "# 2.Name the four pillars of OOPs.\n",
    "\n",
    "The four pillars of OOPs are:\n",
    "1.Inheritance.\n",
    "2.Polymorphism.\n",
    "3.Abstraction.\n",
    "4.Encapsulation."
   ]
  },
  {
   "cell_type": "markdown",
   "id": "e0aef728",
   "metadata": {},
   "source": [
    "# 3.Explain why the __init__() function is used. Give a suitable example.\n",
    "All classes have a function called __init__(), which is always executed when the class is being initiated.\n",
    "The use the __init__() function to assign values to object properties, or other operations that are necessary to do when the object is being created.It is used as constructor in python,and Constructors are used to initializing the object’s state.\n",
    "The task of constructors is to initialize(assign values) to the data members of the class when an object of the class is created.A constructor also contains a collection of statements(i.e. instructions) that are executed at the time of Object creation. It is run as soon as an object of a class is instantiated. The method is useful to do any initialization you want to do with your object.\n",
    "We need not call it like we call a normal method. It is similar to a method inside a class. It is executed as soon as an object is created for the class.\n"
   ]
  },
  {
   "cell_type": "code",
   "execution_count": 17,
   "id": "8665a39a",
   "metadata": {},
   "outputs": [
    {
     "name": "stdout",
     "output_type": "stream",
     "text": [
      "Hello, my name is Pratham srivastava\n"
     ]
    }
   ],
   "source": [
    "\n",
    "class Person:\n",
    "    def __init__(self, name):\n",
    "        self.name = name\n",
    "    def say_hi(self):\n",
    "        print('Hello, my name is', self.name)\n",
    "\n",
    "\n",
    "p = Person('Pratham srivastava')\n",
    "p.say_hi()\n"
   ]
  },
  {
   "cell_type": "markdown",
   "id": "8e5c8647",
   "metadata": {},
   "source": [
    "# 4.Why self is used in OOPs?\n",
    "The self variable is used to represent the instance of the class which is often used in object-oriented programming. It works as a reference to the object. Python uses the self parameter to refer to instance attributes and methods of the class.The self variable in Python can also be used to access a variable field within the class definition.\n",
    "The reason you need to use self. is because Python does not use the  syntax to refer to instance attributes. Python decided to do methods in a way that makes the instance to which the method belongs be passed automatically, but not received automatically.\n",
    "Self increases the readability of code, and it is also a good programming practice.\n"
   ]
  },
  {
   "cell_type": "code",
   "execution_count": 18,
   "id": "3b70f277",
   "metadata": {},
   "outputs": [
    {
     "name": "stdout",
     "output_type": "stream",
     "text": [
      "fruit is apple\n",
      "color is red\n",
      "fruit is grapes\n",
      "color is green\n"
     ]
    }
   ],
   "source": [
    "class food():\n",
    "\n",
    "    def __init__(self, fruit, color):\n",
    "        self.fruit = fruit\n",
    "        self.color = color\n",
    " \n",
    "    def show(self):\n",
    "        print(\"fruit is\", self.fruit)\n",
    "        print(\"color is\", self.color)\n",
    " \n",
    "apple = food(\"apple\", \"red\")\n",
    "grapes = food(\"grapes\", \"green\")\n",
    "apple.show()\n",
    "grapes.show()\n",
    " "
   ]
  },
  {
   "cell_type": "markdown",
   "id": "0b1d4df3",
   "metadata": {},
   "source": [
    "# 5.What is inheritance? Give an example for each type of inheritance.\n",
    "\n",
    " It is a mechanism that allows you to create a hierarchy of classes that share a set of properties and methods by deriving a class from another class. Inheritance is the capability of one class to derive or inherit the properties from another class. \n",
    "1.It represents real-world relationships well.\n",
    "2.It provides the reusability of a code. We don’t have to write the same code again and again. Also, it allows us to add more    features to a class without modifying it.\n",
    "3.Inheritance offers a simple, understandable model structure. \n",
    "4.Less development and maintenance expenses result from an inheritance. \n",
    "\n",
    "There are four types of inheritance in Python:\n",
    "1.Single Inheritance: \n",
    "Single inheritance enables a derived class to inherit properties from a single parent class, thus enabling code reusability and the addition of new features to existing code."
   ]
  },
  {
   "cell_type": "code",
   "execution_count": 19,
   "id": "b672d76d",
   "metadata": {},
   "outputs": [
    {
     "name": "stdout",
     "output_type": "stream",
     "text": [
      "This function is in parent class.\n",
      "This function is in child class.\n"
     ]
    }
   ],
   "source": [
    "class Parent:\n",
    "    def func1(self):\n",
    "        print(\"This function is in parent class.\")\n",
    "\n",
    "class Child(Parent):\n",
    "    def func2(self):\n",
    "        print(\"This function is in child class.\")\n",
    "object = Child()\n",
    "object.func1()\n",
    "object.func2()\n"
   ]
  },
  {
   "cell_type": "markdown",
   "id": "d570a1cf",
   "metadata": {},
   "source": [
    "2.Multiple Inheritance: \n",
    "When a class can be derived from more than one base class this type of inheritance is called multiple inheritances. In multiple inheritances, all the features of the base classes are inherited into the derived class. \n"
   ]
  },
  {
   "cell_type": "code",
   "execution_count": 20,
   "id": "3d13cf1d",
   "metadata": {},
   "outputs": [
    {
     "name": "stdout",
     "output_type": "stream",
     "text": [
      "Father : RAM\n",
      "Mother : SITA\n"
     ]
    }
   ],
   "source": [
    "class Mother:\n",
    "\tmothername = \"\"\n",
    "\n",
    "\tdef mother(self):\n",
    "\t\tprint(self.mothername)\n",
    "class Father:\n",
    "    fathername = \"\"\n",
    "\n",
    "    def father(self):\n",
    "        print(self.fathername)\n",
    "class Son(Mother, Father):\n",
    "    def parents(self):\n",
    "        print(\"Father :\", self.fathername)\n",
    "        print(\"Mother :\", self.mothername)\n",
    "s1 = Son()\n",
    "s1.fathername = \"RAM\"\n",
    "s1.mothername = \"SITA\"\n",
    "s1.parents()\n"
   ]
  },
  {
   "cell_type": "markdown",
   "id": "f6e11689",
   "metadata": {},
   "source": [
    "3.Multilevel Inheritance :\n",
    "In multilevel inheritance, features of the base class and the derived class are further inherited into the new derived class."
   ]
  },
  {
   "cell_type": "code",
   "execution_count": 21,
   "id": "e4ab47a5",
   "metadata": {},
   "outputs": [
    {
     "name": "stdout",
     "output_type": "stream",
     "text": [
      "Grandfather name : abcd\n",
      "Father name : hjkl\n",
      "Son name : lokj\n"
     ]
    }
   ],
   "source": [
    "class Grandfather:\n",
    "    def __init__(self, gfathername):\n",
    "        self.gfathername = gfathername\n",
    "class Father(Grandfather):\n",
    "    def __init__(self, fathername, gfathername):\n",
    "        self.fathername = fathername\n",
    "        Grandfather.__init__(self, gfathername)\n",
    "class Son(Father):\n",
    "    def __init__(self, sonname, fathername, gfathername):\n",
    "        self.sonname = sonname\n",
    "        Father.__init__(self, fathername, gfathername)\n",
    "\n",
    "    def print_name(self):\n",
    "        print('Grandfather name :', self.gfathername)\n",
    "        print(\"Father name :\", self.fathername)\n",
    "        print(\"Son name :\", self.sonname)\n",
    "s1 = Son('lokj', 'hjkl', 'abcd')\n",
    "s1.print_name()\n"
   ]
  },
  {
   "cell_type": "markdown",
   "id": "1d9dad52",
   "metadata": {},
   "source": [
    "4.Hierarchical Inheritance: \n",
    "When more than one derived class are created from a single base this type of inheritance is called hierarchical inheritance. In this program, we have a parent (base) class and two child (derived) classes."
   ]
  },
  {
   "cell_type": "code",
   "execution_count": 22,
   "id": "031836fe",
   "metadata": {},
   "outputs": [
    {
     "name": "stdout",
     "output_type": "stream",
     "text": [
      "This function is in parent class.\n",
      "This function is in child 1.\n",
      "This function is in parent class.\n",
      "This function is in child 2.\n"
     ]
    }
   ],
   "source": [
    "class Parent:\n",
    "    def func1(self):\n",
    "        print(\"This function is in parent class.\")\n",
    "class Child1(Parent):\n",
    "    def func2(self):\n",
    "        print(\"This function is in child 1.\")\n",
    "class Child2(Parent):\n",
    "    def func3(self):\n",
    "        print(\"This function is in child 2.\")\n",
    "object1 = Child1()\n",
    "object2 = Child2()\n",
    "object1.func1()\n",
    "object1.func2()\n",
    "object2.func1()\n",
    "object2.func3()\n"
   ]
  }
 ],
 "metadata": {
  "kernelspec": {
   "display_name": "Python 3 (ipykernel)",
   "language": "python",
   "name": "python3"
  },
  "language_info": {
   "codemirror_mode": {
    "name": "ipython",
    "version": 3
   },
   "file_extension": ".py",
   "mimetype": "text/x-python",
   "name": "python",
   "nbconvert_exporter": "python",
   "pygments_lexer": "ipython3",
   "version": "3.11.1"
  }
 },
 "nbformat": 4,
 "nbformat_minor": 5
}
