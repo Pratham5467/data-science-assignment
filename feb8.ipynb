{
 "cells": [
  {
   "cell_type": "markdown",
   "id": "4ac631c3-c3f3-450e-b20d-a4dba24087c5",
   "metadata": {},
   "source": [
    "# Q1. What is Abstraction in OOps? Explain with an example.\n",
    "Ans--Abstraction is the process of hiding the internal details of an application from the outer world. \n",
    "Abstraction is used to describe things in simple terms. \n",
    "It’s used to create a boundary between the application and the client programs.\n",
    " This is one of the core concepts of object-oriented programming (OOP) languages. \n",
    " That enables the user to implement even more complex logic on top of the provided abstraction without understanding\n",
    " or even thinking about all the hidden background/back-end complexity.\n",
    "ex-"
   ]
  },
  {
   "cell_type": "code",
   "execution_count": 2,
   "id": "ce48c464-d570-49ac-9644-44164b09ac0b",
   "metadata": {},
   "outputs": [
    {
     "name": "stdout",
     "output_type": "stream",
     "text": [
      "The mileage is 30kmph\n",
      "The mileage is 27kmph \n",
      "The mileage is 25kmph \n",
      "The mileage is 24kmph \n"
     ]
    }
   ],
   "source": [
    "from abc import ABC, abstractmethod   \n",
    "class Car(ABC):   \n",
    "    def mileage(self):   \n",
    "        pass  \n",
    "  \n",
    "class Tesla(Car):   \n",
    "    def mileage(self):   \n",
    "        print(\"The mileage is 30kmph\")   \n",
    "class Suzuki(Car):   \n",
    "    def mileage(self):   \n",
    "        print(\"The mileage is 25kmph \")   \n",
    "class Duster(Car):   \n",
    "     def mileage(self):   \n",
    "          print(\"The mileage is 24kmph \")   \n",
    "  \n",
    "class Renault(Car):   \n",
    "    def mileage(self):   \n",
    "            print(\"The mileage is 27kmph \")   \n",
    "          \n",
    "        \n",
    "t= Tesla ()   \n",
    "t.mileage()   \n",
    "  \n",
    "r = Renault()   \n",
    "r.mileage()   \n",
    "  \n",
    "s = Suzuki()   \n",
    "s.mileage()   \n",
    "d = Duster()   \n",
    "d.mileage()  "
   ]
  },
  {
   "cell_type": "markdown",
   "id": "3c53b8a5-7fb8-4cfb-8987-5ad8b05e8b42",
   "metadata": {},
   "source": [
    "# Q2. Differentiate between Abstraction and Encapsulation. Explain with an example.\n",
    "Ans-Abstraction is hiding the details and implementation of the code.\n",
    "Encapsulation is hiding the data and controlling the visibility of the code.\n",
    "Phase\n",
    "Abstraction is a design level process.\n",
    "Encapsulation is an implementation level process.\n",
    "Pivotal Ability\n",
    "Abstraction is concerned about what a class instance can do, instead of the implementation of the class.\n",
    "Encapsulation helps in data binding and control over maintaining the transparency of the data.\n",
    "Use Case\n",
    "Abstraction is a design level process and it is used to reduce the complexity at the designing stage of a project.\n",
    "Encapsulation is an implementation level process, and it is used to provide privacy and maintain control over \n",
    "the transparency of data at the implementation stage of a project.\n",
    "\n",
    "Example:        \n",
    "Abstraction is used in mobile phones’ GUI. When you click on the icons, abstraction allows them to perform specific functions.\n",
    "Let’s look at the encapsulation example to clarify the Encapsulation vs Abstraction.\n",
    "After the icon is clicked, the encapsulation works in the backend to guide the user on the next steps.\"\"\""
   ]
  },
  {
   "cell_type": "markdown",
   "id": "9a896b61-d187-40a9-83d0-cf92b41d8c87",
   "metadata": {},
   "source": [
    "# Q3. What is abc module in python? Why is it used?\n",
    "Abstract base classes provide a way to define interfaces when other techniques like hasattr() would \n",
    "be clumsy or subtly wrong (for example with magic methods). ABCs introduce virtual subclasses,\n",
    "which are classes that don’t inherit from a class but are still recognized by isinstance() and issubclass() functions.\n",
    "There are many built-in ABCs in Python. ABCs for Data structures like Iterator, Generator, Set, mapping etc.\n",
    "are defined in collections.abc module. The numbers module defines numeric tower which is a collection of base classes\n",
    "for numeric data types. The 'abc' module in Python library provides the infrastructure for defining custom abstract base classes.\n",
    "\n",
    "'abc' works by marking methods of the base class as abstract.\n",
    "This is done by @absttractmethod decorator. A concrete class which is a sub class of such abstract base class then \n",
    "implements the abstract base by overriding its abstract methods.\n",
    "\n",
    "The abc module defines ABCMeta class which is a metaclass for defining abstract base class.\n",
    "It is used to make the method of the abstract class as an abstract method."
   ]
  },
  {
   "cell_type": "markdown",
   "id": "1ba8b13d-8b6f-44c5-8c1c-a7be440e9726",
   "metadata": {},
   "source": [
    "# Q4 How can we achieve data abstraction?\n",
    "Data abstraction is the process of hiding the underlying complexity of data and presenting it in a simplified form that \n",
    "is easier to understand and use. It can be achieved in several ways:\n",
    "\n",
    "Abstraction Layers: Abstraction layers are a set of intermediate representations of data that hide the complexity of \n",
    "the underlying data and present it in a simplified form. For example, an operating system provides an abstraction layer \n",
    "between the hardware and the software, allowing software to interact with the hardware without requiring knowledge of the \n",
    "underlying complexity.\n",
    "\n",
    "Encapsulation: Encapsulation is a technique in which the internal representation of an object is hidden from the outside world,\n",
    "and the object can be manipulated only through a well-defined interface. This allows data to be abstracted and protects it \n",
    "from unintended modifications.\n",
    "\n",
    "Abstract Data Types: Abstract data types are data structures that define a set of operations that can be performed on the data,\n",
    "but hide the underlying implementation details. For example, a stack is an abstract data type that defines the \n",
    "operations \"push\" and \"pop\", but the underlying implementation of the stack could be a linked list, an array, or any other data structure.\n",
    "\n",
    "Interfaces: An interface is a set of rules that define how an object can interact with the outside world. Interfaces allow data to be\n",
    "abstracted by defining the operations that can be performed on the data, but hiding the underlying implementation details.\n",
    "\n",
    "Modularity: Modularity is the principle of breaking down a system into smaller, more manageable parts. By dividing a system into smaller,\n",
    "more manageable parts, each part can be treated as a separate abstract data type, making the overall system easier to understand and maintain.\n",
    "\n",
    "By using these techniques, it's possible to achieve data abstraction and make data easier to use and understand,\n",
    "while hiding the underlying complexity."
   ]
  },
  {
   "cell_type": "markdown",
   "id": "87796b3d-1f5c-448f-8767-358665ea8acd",
   "metadata": {},
   "source": [
    "# Q5. Can we create an instance of an abstract class? Explain your answer.\n",
    "Ans--Abstract classes are not complete, as they may have some methods that are not defined. So we cannot create an instance or object of an abstract class in Python."
   ]
  },
  {
   "cell_type": "code",
   "execution_count": null,
   "id": "e570f718-ea5f-44da-b752-0c6e34de9b6c",
   "metadata": {},
   "outputs": [],
   "source": []
  }
 ],
 "metadata": {
  "kernelspec": {
   "display_name": "Python 3 (ipykernel)",
   "language": "python",
   "name": "python3"
  },
  "language_info": {
   "codemirror_mode": {
    "name": "ipython",
    "version": 3
   },
   "file_extension": ".py",
   "mimetype": "text/x-python",
   "name": "python",
   "nbconvert_exporter": "python",
   "pygments_lexer": "ipython3",
   "version": "3.10.8"
  }
 },
 "nbformat": 4,
 "nbformat_minor": 5
}
