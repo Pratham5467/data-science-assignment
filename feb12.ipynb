{
 "cells": [
  {
   "cell_type": "markdown",
   "id": "b2e4c5f1-f030-4f78-85f4-7066330e404e",
   "metadata": {},
   "source": [
    "# Q1. What is an Exception in python? Write difference between Exception and Syntax Error?\n",
    "In Python, an Exception is an error that occurs during the execution of a program.\n",
    "Exceptions are raised when something goes wrong in the program, such as an invalid input, a division by zero,\n",
    "or a file that cannot be found.\n",
    "\n",
    "When an exception occurs, Python raises an object of the corresponding exception class, which includes information about the \n",
    "type of error and where it occurred in the code.\n",
    "If an exception is not caught and handled by the program, it will cause the program to terminate and display an error message.\n",
    "\n",
    "To catch and handle exceptions in Python, you can use a try-except block. \n",
    "This allows you to write code that will try to execute a block of code, and if an exception occurs, \n",
    "it will be caught by the except block and handled accordingly.\n",
    "\n",
    "Both exceptions and syntax errors are types of errors that can occur in Python, but they are different in nature.\n",
    "\n",
    "Syntax errors occur when the interpreter is unable to parse the code due to a violation of the language syntax rules.\n",
    "This means that the code does not follow the correct structure and format required by the Python language, and the interpreter \n",
    "is unable to understand and execute it. Examples of syntax errors include missing or incorrect parentheses, colons, or commas,\n",
    "misspelled keywords, and invalid indentation.\n",
    "\n",
    "Exceptions, on the other hand, occur when the code is syntactically correct, but an error occurs during the execution of \n",
    "the program. This can happen due to a wide range of reasons, such as invalid input, division by zero, or attempting to access \n",
    "a non-existent object."
   ]
  },
  {
   "cell_type": "markdown",
   "id": "09c47a70-6736-45c0-9d2b-18b39275817f",
   "metadata": {},
   "source": [
    "# Q2. What happens when an exception is not handled? Explain with an example\n",
    "When an exception is not handled, it will cause the program to terminate and display an error message. This means that any code that comes after the point where the exception occurred will not be executed, and the program will stop running.\n",
    "\n",
    "Here's an example to illustrate what happens when an exception is not handled:\n"
   ]
  },
  {
   "cell_type": "code",
   "execution_count": 7,
   "id": "a7e168eb-0223-4475-b88b-2af8d4a51b88",
   "metadata": {},
   "outputs": [
    {
     "ename": "ZeroDivisionError",
     "evalue": "division by zero",
     "output_type": "error",
     "traceback": [
      "\u001b[0;31m---------------------------------------------------------------------------\u001b[0m",
      "\u001b[0;31mZeroDivisionError\u001b[0m                         Traceback (most recent call last)",
      "Cell \u001b[0;32mIn[7], line 4\u001b[0m\n\u001b[1;32m      1\u001b[0m \u001b[38;5;28;01mdef\u001b[39;00m \u001b[38;5;21mdivide\u001b[39m(a, b):\n\u001b[1;32m      2\u001b[0m     \u001b[38;5;28;01mreturn\u001b[39;00m a \u001b[38;5;241m/\u001b[39m b\n\u001b[0;32m----> 4\u001b[0m result \u001b[38;5;241m=\u001b[39m \u001b[43mdivide\u001b[49m\u001b[43m(\u001b[49m\u001b[38;5;241;43m10\u001b[39;49m\u001b[43m,\u001b[49m\u001b[43m \u001b[49m\u001b[38;5;241;43m0\u001b[39;49m\u001b[43m)\u001b[49m\n\u001b[1;32m      5\u001b[0m \u001b[38;5;28mprint\u001b[39m(result)\n",
      "Cell \u001b[0;32mIn[7], line 2\u001b[0m, in \u001b[0;36mdivide\u001b[0;34m(a, b)\u001b[0m\n\u001b[1;32m      1\u001b[0m \u001b[38;5;28;01mdef\u001b[39;00m \u001b[38;5;21mdivide\u001b[39m(a, b):\n\u001b[0;32m----> 2\u001b[0m     \u001b[38;5;28;01mreturn\u001b[39;00m \u001b[43ma\u001b[49m\u001b[43m \u001b[49m\u001b[38;5;241;43m/\u001b[39;49m\u001b[43m \u001b[49m\u001b[43mb\u001b[49m\n",
      "\u001b[0;31mZeroDivisionError\u001b[0m: division by zero"
     ]
    }
   ],
   "source": [
    "def divide(a, b):\n",
    "    return a / b\n",
    "\n",
    "result = divide(10, 0)\n",
    "print(result)"
   ]
  },
  {
   "cell_type": "markdown",
   "id": "f266dcbb-c1a3-4b4e-b425-687d5049ba41",
   "metadata": {},
   "source": [
    "When we call the divide() function with the arguments 10 and 0, a ZeroDivisionError exception is raised, as expected.\n",
    "However, we haven't provided any code to handle this exception, so the program will terminate and display an error message.\n",
    "The print() statement after the function call will not be executed."
   ]
  },
  {
   "cell_type": "markdown",
   "id": "b72ae9cf-7ae4-4e7f-a836-b3097d253b1b",
   "metadata": {},
   "source": [
    "# Q3. Which python statement is use to catch and handle exception? Explain with an example\n",
    "In Python, we can use a try-except block to catch and handle exceptions. The try block contains the\n",
    "code that might raise an exception, and the except block contains the code to handle the exception if one occurs. \n",
    "Here's an example:"
   ]
  },
  {
   "cell_type": "code",
   "execution_count": 6,
   "id": "ddf81e12-8de3-46e1-a9b3-97ec89deb62e",
   "metadata": {},
   "outputs": [
    {
     "name": "stdin",
     "output_type": "stream",
     "text": [
      "Enter a number:  21\n",
      "Enter another number:  22\n"
     ]
    },
    {
     "name": "stdout",
     "output_type": "stream",
     "text": [
      "Result:  0.9545454545454546\n"
     ]
    }
   ],
   "source": [
    "try:\n",
    "    x = int(input(\"Enter a number: \"))\n",
    "    y = int(input(\"Enter another number: \"))\n",
    "    result = x / y\n",
    "    print(\"Result: \", result)\n",
    "except ZeroDivisionError:\n",
    "    print(\"Error: division by zero\")\n",
    "except ValueError:\n",
    "    print(\"Error: invalid input\")"
   ]
  },
  {
   "cell_type": "markdown",
   "id": "d2cb08fc-3388-41b4-9eba-1570a24450bf",
   "metadata": {},
   "source": [
    "# Q4. Explain with an example?\n",
    "(A)-try and else\n",
    "(b)-finally\n",
    "(c)-raise\n",
    "a----\n",
    "In Python, we can use a try block to enclose the code that might raise an exception, and an else\n",
    "block to execute code that should run only if no exception is raised. Here's an example:"
   ]
  },
  {
   "cell_type": "code",
   "execution_count": 5,
   "id": "fccb37cc-dcda-4fd3-8d8f-2ed1e24dae0a",
   "metadata": {},
   "outputs": [
    {
     "name": "stdin",
     "output_type": "stream",
     "text": [
      "Enter a number:  21\n",
      "Enter another number:  22\n"
     ]
    },
    {
     "name": "stdout",
     "output_type": "stream",
     "text": [
      "Result:  0.9545454545454546\n"
     ]
    }
   ],
   "source": [
    "try:\n",
    "    x = int(input(\"Enter a number: \"))\n",
    "    y = int(input(\"Enter another number: \"))\n",
    "    result = x / y\n",
    "except ZeroDivisionError:\n",
    "    print(\"Error: division by zero\")\n",
    "else:\n",
    "    print(\"Result: \", result)"
   ]
  },
  {
   "cell_type": "markdown",
   "id": "a0b30553-5dbb-452c-ac52-cd32d9230598",
   "metadata": {},
   "source": [
    "b---\n",
    "In Python, we can use a finally block to enclose code that should be executed regardless of whether an exception\n",
    "is raised or not. The finally block is typically used to perform cleanup operations, such as closing files or releasing \n",
    "resources.\n",
    "\n",
    "Here's an example:"
   ]
  },
  {
   "cell_type": "code",
   "execution_count": 4,
   "id": "80df3e80-952f-41d1-ae6f-9c8326132115",
   "metadata": {},
   "outputs": [
    {
     "name": "stdin",
     "output_type": "stream",
     "text": [
      "Enter a number:  2\n",
      "Enter another number:  1\n"
     ]
    },
    {
     "name": "stdout",
     "output_type": "stream",
     "text": [
      "Result:  2.0\n",
      "Program complete.\n"
     ]
    }
   ],
   "source": [
    "try:\n",
    "    x = int(input(\"Enter a number: \"))\n",
    "    y = int(input(\"Enter another number: \"))\n",
    "    result = x / y\n",
    "except ZeroDivisionError:    \n",
    "    print(\"Error: division by zero\")\n",
    "else:\n",
    "    print(\"Result: \", result)\n",
    "finally:\n",
    "    print(\"Program complete.\")"
   ]
  },
  {
   "cell_type": "markdown",
   "id": "6e0c7491-196f-418b-9747-ca0b064243aa",
   "metadata": {},
   "source": [
    "c---\n",
    "\n",
    "In Python, we can use the raise statement to raise an exception manually. This can be useful in situations \n",
    "where we want to signal an error condition or raise an exception in response to some condition that can't be\n",
    "handled by the normal control flow.\n",
    "\n",
    "Here's an example:"
   ]
  },
  {
   "cell_type": "code",
   "execution_count": 3,
   "id": "16441933-e5a7-4868-bfd2-f18580d5e5f2",
   "metadata": {},
   "outputs": [
    {
     "name": "stdout",
     "output_type": "stream",
     "text": [
      "division by zero\n"
     ]
    }
   ],
   "source": [
    "def divide(x, y):\n",
    "    if y == 0:\n",
    "        raise ZeroDivisionError(\"division by zero\")\n",
    "    else:\n",
    "        return x / y\n",
    "\n",
    "try:\n",
    "    result = divide(10, 0)\n",
    "except ZeroDivisionError as e:\n",
    "    print(e)\n",
    "else:\n",
    "    print(result)"
   ]
  },
  {
   "cell_type": "markdown",
   "id": "916dbc02-dc13-4ccc-acf4-d1eda322f7b1",
   "metadata": {},
   "source": [
    "# what are curstom exception in python?Why do we need custom exception? Expalin with an example?\n",
    "In Python, we can create our own custom exceptions by defining a new class that inherits from the built-in Exception class or one of its subclasses. Custom exceptions can be useful in situations where we want to raise an exception that is specific to our application or module, and that provides more information about the error condition than a generic exception would.\n",
    "\n",
    "We might need to create a custom exception in situations such as:\n",
    "\n",
    "When we want to raise an exception that is specific to our application or module, and that provides more information \n",
    "about the error condition than a generic exception would.\n",
    "When we want to provide additional methods or attributes to our exceptions, such as a method to log the exception or \n",
    "an attribute to store additional data about the error.\n",
    "Here's an example of creating a custom exception:"
   ]
  },
  {
   "cell_type": "code",
   "execution_count": 2,
   "id": "7e0682bd-e474-4189-89ef-19bb3666b317",
   "metadata": {},
   "outputs": [
    {
     "name": "stdout",
     "output_type": "stream",
     "text": [
      "Invalid name: 123\n"
     ]
    }
   ],
   "source": [
    "class InvalidNameError(Exception):\n",
    "    def __init__(self, name):\n",
    "        message = f\"Invalid name: {name}\"\n",
    "        super().__init__(message)\n",
    "\n",
    "def greet(name):\n",
    "    if not name.isalpha():\n",
    "        raise InvalidNameError(name)\n",
    "    else:\n",
    "        print(f\"Hello, {name}!\")\n",
    "\n",
    "try:\n",
    "    greet(\"123\")\n",
    "except InvalidNameError as e:\n",
    "    print(e)"
   ]
  },
  {
   "cell_type": "markdown",
   "id": "239d0018-d586-4a85-871e-f61a593f0476",
   "metadata": {},
   "source": [
    "# Create a custom exception in class? write a class to create a custom exception?"
   ]
  },
  {
   "cell_type": "markdown",
   "id": "3c5af398-58b3-4f6d-8d60-74518ca0806a",
   "metadata": {},
   "source": [
    "In Python, we can define custom exceptions by creating a new class that is derived from the built-in Exception class.\n",
    "\n",
    "Here's the syntax to define custom exceptions,\n",
    "\n",
    "class CustomError(Exception):\n",
    "    pass\n",
    "\n",
    "try:\n",
    "\n",
    "except CustomError:\n"
   ]
  },
  {
   "cell_type": "code",
   "execution_count": 1,
   "id": "edc001bd-f69d-4559-8ea5-e757fd0e76f8",
   "metadata": {},
   "outputs": [
    {
     "name": "stdin",
     "output_type": "stream",
     "text": [
      "Enter a number:  21\n"
     ]
    },
    {
     "name": "stdout",
     "output_type": "stream",
     "text": [
      "Eligible to Vote\n"
     ]
    }
   ],
   "source": [
    "class InvalidAgeException(Exception):\n",
    "    \"Raised when the input value is less than 18\"\n",
    "    pass\n",
    "\n",
    "number = 18\n",
    "\n",
    "try:\n",
    "    input_num = int(input(\"Enter a number: \"))\n",
    "    if input_num < number:\n",
    "        raise InvalidAgeException\n",
    "    else:\n",
    "        print(\"Eligible to Vote\")\n",
    "        \n",
    "except InvalidAgeException:\n",
    "    print(\"Exception occurred: Invalid Age\")"
   ]
  },
  {
   "cell_type": "code",
   "execution_count": null,
   "id": "1e81c0c2-d3ff-48f6-abe5-4d08cbbc37b3",
   "metadata": {},
   "outputs": [],
   "source": []
  }
 ],
 "metadata": {
  "kernelspec": {
   "display_name": "Python 3 (ipykernel)",
   "language": "python",
   "name": "python3"
  },
  "language_info": {
   "codemirror_mode": {
    "name": "ipython",
    "version": 3
   },
   "file_extension": ".py",
   "mimetype": "text/x-python",
   "name": "python",
   "nbconvert_exporter": "python",
   "pygments_lexer": "ipython3",
   "version": "3.10.8"
  }
 },
 "nbformat": 4,
 "nbformat_minor": 5
}
