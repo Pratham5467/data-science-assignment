{
 "cells": [
  {
   "cell_type": "markdown",
   "id": "3b4ec2b5",
   "metadata": {},
   "source": [
    "# Question 1\n"
   ]
  },
  {
   "cell_type": "code",
   "execution_count": 1,
   "id": "0fadb8ce",
   "metadata": {},
   "outputs": [
    {
     "name": "stdout",
     "output_type": "stream",
     "text": [
      "Sorted =  [('Virat Kohli', 24936), ('Jack Kallis', 25534), ('Ricky Ponting', 27483), ('Sachin Tendulkar', 34357)]\n"
     ]
    }
   ],
   "source": [
    "a = [('Sachin Tendulkar', 34357), ('Ricky Ponting', 27483), \n",
    "     ('Jack Kallis', 25534), ('Virat Kohli', 24936)]\n",
    "a.sort(key= lambda x:x[1])\n",
    "print('Sorted = ',a)"
   ]
  },
  {
   "cell_type": "markdown",
   "id": "5518e69a",
   "metadata": {},
   "source": [
    "# Question 2"
   ]
  },
  {
   "cell_type": "code",
   "execution_count": 2,
   "id": "7c6ca602",
   "metadata": {},
   "outputs": [
    {
     "name": "stdout",
     "output_type": "stream",
     "text": [
      "Squared array =  [1, 4, 9, 16, 25, 36, 49, 64, 81, 100]\n"
     ]
    }
   ],
   "source": [
    "arr = [1, 2, 3, 4, 5, 6, 7, 8, 9, 10]\n",
    "square = list(map(lambda x:x**2,arr))\n",
    "print(\"Squared array = \",square)"
   ]
  },
  {
   "cell_type": "markdown",
   "id": "613ba3dc",
   "metadata": {},
   "source": [
    "# Question 3"
   ]
  },
  {
   "cell_type": "code",
   "execution_count": 3,
   "id": "465cbfa8",
   "metadata": {},
   "outputs": [
    {
     "name": "stdout",
     "output_type": "stream",
     "text": [
      "String tuple =  ('1', '2', '3', '4', '5', '6', '7', '8', '9', '10')\n"
     ]
    }
   ],
   "source": [
    "arr = [1, 2, 3, 4, 5, 6, 7, 8, 9, 10]\n",
    "new = tuple(map(lambda x:str(x),arr))\n",
    "print('String tuple = ',new)"
   ]
  },
  {
   "cell_type": "markdown",
   "id": "662914c5",
   "metadata": {},
   "source": [
    "# Question 4"
   ]
  },
  {
   "cell_type": "code",
   "execution_count": 4,
   "id": "4a3d3891",
   "metadata": {},
   "outputs": [
    {
     "name": "stdout",
     "output_type": "stream",
     "text": [
      "Product =  15511210043330985984000000\n"
     ]
    }
   ],
   "source": [
    "from functools import reduce\n",
    "a = list(range(1,26))\n",
    "print(\"Product = \",reduce(lambda x,y:x*y,a))"
   ]
  },
  {
   "cell_type": "markdown",
   "id": "276cb1b0",
   "metadata": {},
   "source": [
    "# Question 5"
   ]
  },
  {
   "cell_type": "code",
   "execution_count": 5,
   "id": "b1006f42",
   "metadata": {},
   "outputs": [
    {
     "name": "stdout",
     "output_type": "stream",
     "text": [
      "Uing filter\n",
      "[6, 60, 90, 120]\n"
     ]
    }
   ],
   "source": [
    "abc = [2, 3, 6, 9, 27, 60, 90, 120, 55, 46]\n",
    "print('Uing filter')\n",
    "print(list(filter(lambda x:x%2==0 and x%3==0,abc)))"
   ]
  },
  {
   "cell_type": "markdown",
   "id": "8fa440d2",
   "metadata": {},
   "source": [
    "# Question 6"
   ]
  },
  {
   "cell_type": "code",
   "execution_count": 6,
   "id": "124b966a",
   "metadata": {},
   "outputs": [
    {
     "name": "stdout",
     "output_type": "stream",
     "text": [
      "Pallindrome list =  ['php', 'aba', 'radar', 'level']\n"
     ]
    }
   ],
   "source": [
    "arr = ['python', 'php', 'aba', 'radar', 'level']\n",
    "pa = list(filter(lambda x:x==x[::-1],arr))\n",
    "print('Pallindrome list = ',pa)"
   ]
  }
 ],
 "metadata": {
  "kernelspec": {
   "display_name": "Python 3 (ipykernel)",
   "language": "python",
   "name": "python3"
  },
  "language_info": {
   "codemirror_mode": {
    "name": "ipython",
    "version": 3
   },
   "file_extension": ".py",
   "mimetype": "text/x-python",
   "name": "python",
   "nbconvert_exporter": "python",
   "pygments_lexer": "ipython3",
   "version": "3.11.1"
  }
 },
 "nbformat": 4,
 "nbformat_minor": 5
}
