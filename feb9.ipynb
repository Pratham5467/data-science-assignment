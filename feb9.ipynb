{
 "cells": [
  {
   "cell_type": "markdown",
   "id": "c3522a50-df2f-4158-a5b8-e6f152ec2506",
   "metadata": {},
   "source": [
    "# Q1. Create a vehicle class with an init method having instance variables as name_of_vehicle, max_speed and average_of_vehicle.\n",
    "Ans--     "
   ]
  },
  {
   "cell_type": "code",
   "execution_count": 22,
   "id": "96381e8b-de36-43e1-a65a-866a6af02cfa",
   "metadata": {},
   "outputs": [],
   "source": [
    "class vehicle:\n",
    "    def __init__(self,name_of_vehicle,max_speed,average_of_vehicle):\n",
    "        self.name_of_vehicle=name_of_vehicle\n",
    "        self.max_speed=max_speed\n",
    "        self.average_of_vehicle=average_of_vehicle"
   ]
  },
  {
   "cell_type": "markdown",
   "id": "8a7dfbba-178f-4b4c-959b-0cbcd1045f90",
   "metadata": {},
   "source": [
    "# Q2. Create a child class car from the vehicle class created in Que 1, which will inherit the vehicle class Create a method named seating_capacity which takes capacity as an argument and returns the name of the vehicle and its seating capacity.\n"
   ]
  },
  {
   "cell_type": "code",
   "execution_count": 23,
   "id": "ed7377d7-ae9f-44a3-b771-8a158fe01f2d",
   "metadata": {},
   "outputs": [],
   "source": [
    "class car(vehicle):\n",
    "    def seating_capacity(self,capacity):\n",
    "        self.capacity=capacity\n",
    "        return self.name_of_vehicle, self.capacity    "
   ]
  },
  {
   "cell_type": "code",
   "execution_count": 24,
   "id": "5aca423d-3afb-422e-8119-c0f14b8aa4b9",
   "metadata": {},
   "outputs": [],
   "source": [
    "  car=car(\"maruti\",80,50)"
   ]
  },
  {
   "cell_type": "code",
   "execution_count": 25,
   "id": "25673c62-3631-4d00-a688-18765e4112a8",
   "metadata": {},
   "outputs": [
    {
     "data": {
      "text/plain": [
       "('maruti', 5)"
      ]
     },
     "execution_count": 25,
     "metadata": {},
     "output_type": "execute_result"
    }
   ],
   "source": [
    " car.seating_capacity(5)"
   ]
  },
  {
   "cell_type": "markdown",
   "id": "466fc428-4fc9-49e5-9199-f0a6e251a734",
   "metadata": {},
   "source": [
    "# Q3. What is multiple inheritance? Write a python code to demonstrate multiple inheritance.\n",
    "Ans--Multiple inheritance is a feature in object-oriented programming (OOP) where a class can inherit properties\n",
    "and behaviors from more than one parent class. It means a single class can inherit from multiple base classes \n",
    "and inherit the attributes and methods of all the parent classes. This allows for creating new classes that are\n",
    "more specialized and have a combination of properties from multiple parent classes"
   ]
  },
  {
   "cell_type": "code",
   "execution_count": 26,
   "id": "3fc9ad6a-9960-473c-a5ce-228de087024e",
   "metadata": {},
   "outputs": [],
   "source": [
    "class c1:\n",
    "    def c1(self):\n",
    "        return\"this is first class c1\"\n",
    "class c2:\n",
    "    def c2(self):\n",
    "        return\"this is 2nd class c2\"\n",
    "class c3(c1,c2):\n",
    "    pass"
   ]
  },
  {
   "cell_type": "code",
   "execution_count": 27,
   "id": "97623bbe-e628-44cb-ace9-90ceee1abd05",
   "metadata": {},
   "outputs": [
    {
     "data": {
      "text/plain": [
       "'this is first class c1'"
      ]
     },
     "execution_count": 27,
     "metadata": {},
     "output_type": "execute_result"
    }
   ],
   "source": [
    "obj=c3()\n",
    "obj.c1()"
   ]
  },
  {
   "cell_type": "code",
   "execution_count": 28,
   "id": "bdc8dca6-0595-4384-87c9-199da0d2169a",
   "metadata": {},
   "outputs": [
    {
     "data": {
      "text/plain": [
       "'this is 2nd class c2'"
      ]
     },
     "execution_count": 28,
     "metadata": {},
     "output_type": "execute_result"
    }
   ],
   "source": [
    "obj.c2()"
   ]
  },
  {
   "cell_type": "markdown",
   "id": "164b428d-3f33-4fb2-8362-ca679cfa18ee",
   "metadata": {},
   "source": [
    "# Q4. What are getter and setter in python?Create a class and create a getter and a setter method in this class\n",
    "Ans--In Python, getters and setters are used to define the methods that get and set the values of an \n",
    "object's attributes, respectively. They are used to encapsulate the internal representation of an object,\n",
    "and to ensure that any changes to an object's attributes are properly controlled.\n",
    "A getter method is used to retrieve the value of an object's attribute. It is typically defined using the\n",
    "@property decorator, which allows the method to be accessed as if it were an attribute of the object.\n",
    "A setter method is used to set the value of an object's attribute. It is defined using the @attribute_name.setter\n",
    "decorator, where attribute_name is the name of the attribute."
   ]
  },
  {
   "cell_type": "markdown",
   "id": "863d9f4f-eb27-45ca-aeb3-0595aba70c1d",
   "metadata": {},
   "source": [
    "# Q5.What is method overriding in python? Write a python code to demonstrate method overriding.\n",
    "Ans--Method overriding in Python refers to the ability of a subclass to provide a new implementation \n",
    "of a method that is already defined in its parent class.\n",
    "The subclass can override the method of the parent class by defining a method with the same name in the subclass.\n",
    "\n",
    "When a method is called on an object of the subclass, the new implementation in the subclass is executed,\n",
    "instead of the original implementation in the parent class. This allows the subclass to inherit the behavior\n",
    "of the parent class but to customize it as needed."
   ]
  },
  {
   "cell_type": "code",
   "execution_count": 29,
   "id": "ee8c7841-8797-46ba-bd88-e842fc079084",
   "metadata": {},
   "outputs": [],
   "source": [
    "class bike:\n",
    "    def __init__(self,year,model,avg):\n",
    "        self.year=year\n",
    "        self.model=model\n",
    "        self.__avg=avg\n",
    "    def set_avg(self,avg):\n",
    "        self.__avg=0 if avg<0 else avg\n",
    "    def get_avg(self):\n",
    "        return self.__avg\n",
    "    \n",
    "b=bike(2021,\"honda\",40)"
   ]
  },
  {
   "cell_type": "code",
   "execution_count": 30,
   "id": "5039c3d0-d776-492a-b2f0-9e735f7b8872",
   "metadata": {},
   "outputs": [
    {
     "data": {
      "text/plain": [
       "40"
      ]
     },
     "execution_count": 30,
     "metadata": {},
     "output_type": "execute_result"
    }
   ],
   "source": [
    "b.get_avg()"
   ]
  },
  {
   "cell_type": "code",
   "execution_count": 31,
   "id": "4eb06816-a1b8-43fb-b794-14b0b7a11bf1",
   "metadata": {},
   "outputs": [],
   "source": [
    "b.set_avg(10)"
   ]
  },
  {
   "cell_type": "code",
   "execution_count": 32,
   "id": "b2d077c5-17d0-4d92-a6d5-7c9426b12d10",
   "metadata": {},
   "outputs": [
    {
     "data": {
      "text/plain": [
       "10"
      ]
     },
     "execution_count": 32,
     "metadata": {},
     "output_type": "execute_result"
    }
   ],
   "source": [
    "b.get_avg()"
   ]
  },
  {
   "cell_type": "code",
   "execution_count": null,
   "id": "e9ae2c03-77d8-499c-8d9a-bf0998212616",
   "metadata": {},
   "outputs": [],
   "source": []
  }
 ],
 "metadata": {
  "kernelspec": {
   "display_name": "Python 3 (ipykernel)",
   "language": "python",
   "name": "python3"
  },
  "language_info": {
   "codemirror_mode": {
    "name": "ipython",
    "version": 3
   },
   "file_extension": ".py",
   "mimetype": "text/x-python",
   "name": "python",
   "nbconvert_exporter": "python",
   "pygments_lexer": "ipython3",
   "version": "3.10.8"
  }
 },
 "nbformat": 4,
 "nbformat_minor": 5
}
