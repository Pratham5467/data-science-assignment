{
 "cells": [
  {
   "cell_type": "markdown",
   "id": "ba2ae097",
   "metadata": {},
   "source": [
    "# Question 1\n",
    "For loop\n",
    "\n",
    "1.for loop is basically used for a specified range\n",
    "2.for loop is used for traversing a list,string\n",
    "3.infinite loop is not possible in for loop\n",
    "4.for loop's value are fixed at time of initialization(no of iterations is fixed(static))\n",
    "\n",
    "While Loop\n",
    "\n",
    "while loop's advantage is it can create infinite loops\n",
    "while loop can help variable to jump from a certain value to different value at runtime.(no of iterations can be changed until the condition becomes false)"
   ]
  },
  {
   "cell_type": "code",
   "execution_count": 1,
   "id": "5513c6b7",
   "metadata": {},
   "outputs": [
    {
     "name": "stdout",
     "output_type": "stream",
     "text": [
      "7\n",
      "7\n",
      "7\n",
      "7\n"
     ]
    }
   ],
   "source": [
    "# problem with for loop\n",
    "# if we want to initialize loop's variable to 7\n",
    "# it does but no of iterations are fixed(i.e 4 time)\n",
    "for x in range(1,5):\n",
    "    x=7\n",
    "    print(x)"
   ]
  },
  {
   "cell_type": "code",
   "execution_count": 2,
   "id": "8f631fb8",
   "metadata": {},
   "outputs": [
    {
     "name": "stdout",
     "output_type": "stream",
     "text": [
      "0\n"
     ]
    }
   ],
   "source": [
    "# to deal with this problem we can use while loop\n",
    "x=0\n",
    "while x<5:\n",
    "    print(x)\n",
    "    x=6\n",
    "# No of iterations are not fixed "
   ]
  },
  {
   "cell_type": "markdown",
   "id": "79d23b27",
   "metadata": {},
   "source": [
    "# Question 2"
   ]
  },
  {
   "cell_type": "code",
   "execution_count": 3,
   "id": "320a2749",
   "metadata": {},
   "outputs": [
    {
     "name": "stdout",
     "output_type": "stream",
     "text": [
      "Sum using for loop =  55\n",
      "Sum using while loop =  55\n"
     ]
    }
   ],
   "source": [
    "total = 0\n",
    "for x in range(1,11):\n",
    "    total+=x\n",
    "print('Sum using for loop = ',total)\n",
    "\n",
    "new = 0\n",
    "start = 1\n",
    "while start<=10:\n",
    "    new += start\n",
    "    start += 1\n",
    "print('Sum using while loop = ',new)"
   ]
  },
  {
   "cell_type": "markdown",
   "id": "c1fdd3a5",
   "metadata": {},
   "source": [
    "# Question 3"
   ]
  },
  {
   "cell_type": "code",
   "execution_count": 4,
   "id": "5ad228be",
   "metadata": {},
   "outputs": [
    {
     "name": "stdout",
     "output_type": "stream",
     "text": [
      "No of units = 350\n",
      "Bill =  3050.0\n"
     ]
    }
   ],
   "source": [
    "unit = int(input('No of units = '))\n",
    "price = 0 \n",
    "if unit<=100:\n",
    "    price = (4.5 * unit)\n",
    "elif unit>100 and unit<=200:\n",
    "    price = 4.5 * 100 + 6 * (unit-100)\n",
    "elif unit > 200 and unit <= 300:\n",
    "    price = 4.5 * 100 + 6 * 100 + 10 * (unit - 200)\n",
    "else:\n",
    "    price = 4.5 * 100 + 6 * 100 + 10 * 100 + 20 * (unit-300)\n",
    "\n",
    "print('Bill = ',price)\n"
   ]
  },
  {
   "cell_type": "markdown",
   "id": "0f0e5c0b",
   "metadata": {},
   "source": [
    "# Question 4"
   ]
  },
  {
   "cell_type": "code",
   "execution_count": 5,
   "id": "62b9461e",
   "metadata": {},
   "outputs": [
    {
     "name": "stdout",
     "output_type": "stream",
     "text": [
      "[2, 4, 5, 6, 8, 10, 12, 14, 15, 16, 18, 20, 22, 24, 25, 26, 28, 30, 32, 34, 35, 36, 38, 40, 42, 44, 45, 46, 48, 50, 52, 54, 55, 56, 58, 60, 62, 64, 65, 66, 68, 70, 72, 74, 75, 76, 78, 80, 82, 84, 85, 86, 88, 90, 92, 94, 95, 96, 98, 100]\n"
     ]
    }
   ],
   "source": [
    "result = []\n",
    "arr = list(range(1,101))\n",
    "for x in arr:\n",
    "    cube = x**3\n",
    "    if cube%4 == 0 or cube%5 == 0:\n",
    "        result.append(x)\n",
    "print(result)"
   ]
  },
  {
   "cell_type": "code",
   "execution_count": 6,
   "id": "dcc048d1",
   "metadata": {},
   "outputs": [
    {
     "name": "stdout",
     "output_type": "stream",
     "text": [
      "[2, 4, 5, 6, 8, 10, 12, 14, 15, 16, 18, 20, 22, 24, 25, 26, 28, 30, 32, 34, 35, 36, 38, 40, 42, 44, 45, 46, 48, 50, 52, 54, 55, 56, 58, 60, 62, 64, 65, 66, 68, 70, 72, 74, 75, 76, 78, 80, 82, 84, 85, 86, 88, 90, 92, 94, 95, 96, 98, 100]\n"
     ]
    }
   ],
   "source": [
    "result = []\n",
    "i=1\n",
    "while i<101:\n",
    "    cube = i**3\n",
    "    if cube%4 == 0 or cube%5 == 0:\n",
    "        result.append(i)\n",
    "    i+=1\n",
    "print(result)"
   ]
  },
  {
   "cell_type": "markdown",
   "id": "39db50bc",
   "metadata": {},
   "source": [
    "# Question 5\n"
   ]
  },
  {
   "cell_type": "code",
   "execution_count": 7,
   "id": "00c473f3",
   "metadata": {},
   "outputs": [
    {
     "name": "stdout",
     "output_type": "stream",
     "text": [
      "No of vowels =  12\n"
     ]
    }
   ],
   "source": [
    "string = \"I want to become a data scientist\"\n",
    "count_vowels = 0\n",
    "for x in string :\n",
    "    if x.lower() in ['a','e','i','o','u']:\n",
    "        count_vowels += 1\n",
    "        \n",
    "print('No of vowels = ',count_vowels) "
   ]
  }
 ],
 "metadata": {
  "kernelspec": {
   "display_name": "Python 3 (ipykernel)",
   "language": "python",
   "name": "python3"
  },
  "language_info": {
   "codemirror_mode": {
    "name": "ipython",
    "version": 3
   },
   "file_extension": ".py",
   "mimetype": "text/x-python",
   "name": "python",
   "nbconvert_exporter": "python",
   "pygments_lexer": "ipython3",
   "version": "3.11.1"
  }
 },
 "nbformat": 4,
 "nbformat_minor": 5
}
