{
 "cells": [
  {
   "cell_type": "code",
   "execution_count": 1,
   "id": "d15a15ce",
   "metadata": {},
   "outputs": [
    {
     "name": "stdout",
     "output_type": "stream",
     "text": [
      "Enter your Percentage = 80\n",
      "C\n"
     ]
    }
   ],
   "source": [
    "# Question 1\n",
    "per = float(input('Enter your Percentage = '))\n",
    "if per>90:\n",
    "    print('A')\n",
    "elif per>80 and per<=90:\n",
    "    print('B')\n",
    "elif per>=60 and per<=80:\n",
    "    print('C')\n",
    "else:\n",
    "    print('D')"
   ]
  },
  {
   "cell_type": "code",
   "execution_count": 2,
   "id": "9fb3a909",
   "metadata": {},
   "outputs": [
    {
     "name": "stdout",
     "output_type": "stream",
     "text": [
      "Price = 2000\n",
      "Tax price =  100.0\n"
     ]
    }
   ],
   "source": [
    "# Question 2\n",
    "price = int(input('Price = '))\n",
    "tax = None\n",
    "if price<=50000:\n",
    "    tax= price*0.05\n",
    "elif price>50000 and price<=100000:\n",
    "    tax = price*0.10\n",
    "else:\n",
    "    tax = price*0.15\n",
    "print('Tax price = ',tax)"
   ]
  },
  {
   "cell_type": "code",
   "execution_count": 3,
   "id": "38647db1",
   "metadata": {},
   "outputs": [
    {
     "name": "stdout",
     "output_type": "stream",
     "text": [
      "Enter the city name = jaipur\n",
      "Jal Mahal\n"
     ]
    }
   ],
   "source": [
    "# question 3\n",
    "city = input('Enter the city name = ').lower()\n",
    "if city == 'delhi':\n",
    "    print('Red Fort')\n",
    "elif city == 'agra':\n",
    "    print('Taj Mahal')\n",
    "elif city == 'jaipur':\n",
    "    print('Jal Mahal')\n",
    "else:\n",
    "    pass"
   ]
  },
  {
   "cell_type": "code",
   "execution_count": 5,
   "id": "899b4c9c",
   "metadata": {},
   "outputs": [
    {
     "name": "stdout",
     "output_type": "stream",
     "text": [
      "enter a number = 20\n",
      "No of times =  1\n"
     ]
    }
   ],
   "source": [
    "# Question 4\n",
    "num = int(input('enter a number = '))\n",
    "ctr=0\n",
    "while num>10:\n",
    "    num = num/3;\n",
    "    ctr+=1\n",
    "print('No of times = ',ctr)"
   ]
  },
  {
   "cell_type": "code",
   "execution_count": null,
   "id": "af98eaeb",
   "metadata": {},
   "outputs": [],
   "source": [
    "#Question 5\n",
    "\n",
    "# while loop is basically used for creating infinite loops.\n",
    "# for loop has restrictions for infinite loop.\n",
    "# that's why while loop is used.\n",
    "\n",
    "#while True:\n",
    "#    print('hello')\n",
    "    \n",
    "# This above example leads to an infinite loop."
   ]
  },
  {
   "cell_type": "code",
   "execution_count": 6,
   "id": "c792e234",
   "metadata": {},
   "outputs": [
    {
     "name": "stdout",
     "output_type": "stream",
     "text": [
      "1st\n",
      "\n",
      "* \n",
      "* * \n",
      "* * * \n",
      "* * * * \n",
      "* * * * * \n",
      "\n",
      "2nd\n",
      "\n",
      "* * * * * * \n",
      "* * * * * \n",
      "* * * * \n",
      "* * * \n",
      "* * \n",
      "\n",
      "3rd\n",
      "\n",
      "     * \n",
      "    * * \n",
      "   * * * \n",
      "  * * * * \n",
      " * * * * * \n"
     ]
    }
   ],
   "source": [
    "# Question 6\n",
    "n=5\n",
    "print('1st\\n')\n",
    "i=0\n",
    "while i<n:\n",
    "    j=0\n",
    "    while j<=i:\n",
    "        print('*',end=' ')\n",
    "        j+=1\n",
    "    i+=1\n",
    "    print()\n",
    "    \n",
    "\n",
    "print('\\n2nd\\n')\n",
    "i=0\n",
    "while i<n:\n",
    "    j=n\n",
    "    while j>=i:\n",
    "        print('*',end=' ')\n",
    "        j-=1\n",
    "    i+=1\n",
    "    print()\n",
    "    \n",
    "print('\\n3rd\\n')\n",
    "i=0\n",
    "while i<n:\n",
    "    sp=n-1\n",
    "    while sp>=i:\n",
    "        print(end=' ')\n",
    "        sp-=1\n",
    "    j=0\n",
    "    while j<=i:\n",
    "        print('*',end=' ')\n",
    "        j+=1\n",
    "    i+=1\n",
    "    print()"
   ]
  },
  {
   "cell_type": "code",
   "execution_count": 7,
   "id": "23f0233e",
   "metadata": {},
   "outputs": [
    {
     "name": "stdout",
     "output_type": "stream",
     "text": [
      "10\n",
      "9\n",
      "8\n",
      "7\n",
      "6\n",
      "5\n",
      "4\n",
      "3\n",
      "2\n",
      "1\n"
     ]
    }
   ],
   "source": [
    "# Question 7\n",
    "num=10\n",
    "while num>0:\n",
    "    print(num)\n",
    "    num-=1"
   ]
  },
  {
   "cell_type": "code",
   "execution_count": 8,
   "id": "a49fc111",
   "metadata": {},
   "outputs": [
    {
     "name": "stdout",
     "output_type": "stream",
     "text": [
      "10\n",
      "9\n",
      "8\n",
      "7\n",
      "6\n",
      "5\n",
      "4\n",
      "3\n",
      "2\n",
      "1\n"
     ]
    }
   ],
   "source": [
    "# Question 8\n",
    "num=10\n",
    "while num>0:\n",
    "    print(num)\n",
    "    num-=1"
   ]
  }
 ],
 "metadata": {
  "kernelspec": {
   "display_name": "Python 3 (ipykernel)",
   "language": "python",
   "name": "python3"
  },
  "language_info": {
   "codemirror_mode": {
    "name": "ipython",
    "version": 3
   },
   "file_extension": ".py",
   "mimetype": "text/x-python",
   "name": "python",
   "nbconvert_exporter": "python",
   "pygments_lexer": "ipython3",
   "version": "3.11.1"
  }
 },
 "nbformat": 4,
 "nbformat_minor": 5
}
