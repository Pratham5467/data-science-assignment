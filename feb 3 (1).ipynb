{
 "cells": [
  {
   "cell_type": "markdown",
   "id": "c87a4bfc",
   "metadata": {},
   "source": [
    "  # Question 1"
   ]
  },
  {
   "cell_type": "code",
   "execution_count": 14,
   "id": "9552e29a",
   "metadata": {},
   "outputs": [
    {
     "name": "stdout",
     "output_type": "stream",
     "text": [
      "[1, 3, 5, 7, 9, 11, 13, 15, 17, 19, 21, 23]\n"
     ]
    }
   ],
   "source": [
    "def odd():\n",
    "    arr = []\n",
    "    for x in range(1,25):\n",
    "        if x%2!=0:\n",
    "            arr.append(x)\n",
    "    return arr\n",
    "\n",
    "result = odd()\n",
    "print(result)"
   ]
  },
  {
   "cell_type": "markdown",
   "id": "55798692",
   "metadata": {},
   "source": [
    "   # Question 2"
   ]
  },
  {
   "cell_type": "code",
   "execution_count": 2,
   "id": "ddcb9f9d",
   "metadata": {},
   "outputs": [
    {
     "name": "stdout",
     "output_type": "stream",
     "text": [
      "(1, 2, 3)\n",
      "(1, 2)\n",
      "('abc', 'def')\n"
     ]
    }
   ],
   "source": [
    "# *args is used to take different no of arguments\n",
    "# for a same function where no of arguments are given by user\n",
    "\n",
    "\n",
    "def summ(*arr):\n",
    "    print(arr)\n",
    "\n",
    "summ(1,2,3)\n",
    "summ(1,2)\n",
    "summ('abc','def')"
   ]
  },
  {
   "cell_type": "code",
   "execution_count": 13,
   "id": "f909cdf0",
   "metadata": {},
   "outputs": [
    {
     "name": "stdout",
     "output_type": "stream",
     "text": [
      "Name = Pratham\n",
      "roll = 31\n",
      "\n",
      "a = 4\n",
      "b = 31\n",
      "\n"
     ]
    }
   ],
   "source": [
    "# **kwargs is used to take key value pairs\n",
    "# keyworded input from user\n",
    "\n",
    "def abc(**arr):\n",
    "    for x ,y in arr.items():\n",
    "        print(x,'=',y)\n",
    "    print()\n",
    "    \n",
    "    \n",
    "abc(Name='Pratham',roll=31)\n",
    "abc(a=4,b=31)"
   ]
  },
  {
   "cell_type": "markdown",
   "id": "7036d9ef",
   "metadata": {},
   "source": [
    "# Question 3"
   ]
  },
  {
   "cell_type": "code",
   "execution_count": 6,
   "id": "fbc9608f",
   "metadata": {},
   "outputs": [
    {
     "name": "stdout",
     "output_type": "stream",
     "text": [
      "2 4 6 8 10 "
     ]
    }
   ],
   "source": [
    "'''Iterator in Python is an object that is used to\n",
    "iterate over iterable objects like lists, tuples, dicts, and sets. \n",
    "The iterator object is initialized using the iter() method.\n",
    "It uses the next() method for iteration.'''\n",
    "\n",
    "arr = [2, 4, 6, 8, 10, 12, 14, 16, 18, 20]\n",
    "it = iter(arr)\n",
    "for x in range(5):\n",
    "    print(next(it),end=' ')"
   ]
  },
  {
   "cell_type": "markdown",
   "id": "a3c47edc",
   "metadata": {},
   "source": [
    "# Question 4"
   ]
  },
  {
   "cell_type": "code",
   "execution_count": 7,
   "id": "ab450327",
   "metadata": {},
   "outputs": [
    {
     "name": "stdout",
     "output_type": "stream",
     "text": [
      "2 4 6 8 10 "
     ]
    }
   ],
   "source": [
    "# Generator function help us to generate an generator object\n",
    "# which can be traversed by for loop\n",
    "# The yield keyword in Python controls the flow of a generator function.\n",
    "def gen():\n",
    "    for x in range(1,11):\n",
    "        if x%2==0:\n",
    "            yield x\n",
    "\n",
    "result = gen()\n",
    "for x in result:\n",
    "    print(x,end=' ')"
   ]
  },
  {
   "cell_type": "markdown",
   "id": "6d191f23",
   "metadata": {},
   "source": [
    "# Question 5\n"
   ]
  },
  {
   "cell_type": "code",
   "execution_count": 8,
   "id": "11fbbf49",
   "metadata": {},
   "outputs": [
    {
     "name": "stdout",
     "output_type": "stream",
     "text": [
      "2 3 5 7 11 13 17 19 23 29 31 37 41 43 47 53 59 61 67 71 "
     ]
    }
   ],
   "source": [
    "import math\n",
    "def prime(n):\n",
    "    if n>1:\n",
    "        ctr = True\n",
    "        for x in range(2,int(math.sqrt(n))+1):\n",
    "            if n%x==0:\n",
    "                ctr = False\n",
    "                break\n",
    "        return ctr\n",
    "    else:\n",
    "        return False\n",
    "\n",
    "def gen():\n",
    "    for x in range(0,1000):\n",
    "        if prime(x):\n",
    "            yield x\n",
    "    \n",
    "\n",
    "def n():\n",
    "    ctr=1\n",
    "    for value in gen():\n",
    "        if ctr>20:\n",
    "            break\n",
    "        print(value,end=' ')\n",
    "        ctr+=1\n",
    "        \n",
    "n()"
   ]
  },
  {
   "cell_type": "markdown",
   "id": "dfdf1107",
   "metadata": {},
   "source": [
    "# Question 6"
   ]
  },
  {
   "cell_type": "code",
   "execution_count": 9,
   "id": "1140d95d",
   "metadata": {},
   "outputs": [
    {
     "name": "stdout",
     "output_type": "stream",
     "text": [
      "0 1 1 2 3 5 8 13 21 34 \n"
     ]
    }
   ],
   "source": [
    "start = 0\n",
    "after = 1\n",
    "ctr = 2\n",
    "print(start,after,end=' ')\n",
    "while ctr<10:\n",
    "    ctr+=1\n",
    "    print(start+after,end=' ')\n",
    "    start,after=after,start+after\n",
    "print()"
   ]
  },
  {
   "cell_type": "markdown",
   "id": "d5d7c638",
   "metadata": {},
   "source": [
    "# Question 7"
   ]
  },
  {
   "cell_type": "code",
   "execution_count": 15,
   "id": "cc415936",
   "metadata": {},
   "outputs": [
    {
     "name": "stdout",
     "output_type": "stream",
     "text": [
      "String = pwskills\n",
      "['p', 'w', 's', 'k', 'i', 'l', 'l', 's']\n"
     ]
    }
   ],
   "source": [
    "s = input('String = ')\n",
    "print(list(s))"
   ]
  },
  {
   "cell_type": "markdown",
   "id": "96596abc",
   "metadata": {},
   "source": [
    "# Question 8"
   ]
  },
  {
   "cell_type": "code",
   "execution_count": 11,
   "id": "cd41b30c",
   "metadata": {},
   "outputs": [
    {
     "name": "stdout",
     "output_type": "stream",
     "text": [
      "Number = 121\n",
      "Pallindrome Number \n"
     ]
    }
   ],
   "source": [
    "n = int(input('Number = '))\n",
    "temp = n \n",
    "rev = 0\n",
    "while temp>0:\n",
    "    rev = rev*10 + (temp%10)\n",
    "    temp = temp//10\n",
    "if n==rev:\n",
    "    print('Pallindrome Number ')\n",
    "else:\n",
    "    print('Not a Pallindrome Number ')\n"
   ]
  },
  {
   "cell_type": "markdown",
   "id": "45d8545f",
   "metadata": {},
   "source": [
    "# Question 9"
   ]
  },
  {
   "cell_type": "code",
   "execution_count": 12,
   "id": "a2d6683b",
   "metadata": {},
   "outputs": [
    {
     "name": "stdout",
     "output_type": "stream",
     "text": [
      "[1, 3, 5, 7, 9, 11, 13, 15, 17, 19, 21, 23, 25, 27, 29, 31, 33, 35, 37, 39, 41, 43, 45, 47, 49, 51, 53, 55, 57, 59, 61, 63, 65, 67, 69, 71, 73, 75, 77, 79, 81, 83, 85, 87, 89, 91, 93, 95, 97, 99]\n"
     ]
    }
   ],
   "source": [
    "arr = list(range(1,101))\n",
    "def fun(n):\n",
    "    if n%2!=0:\n",
    "        return True\n",
    "    else:\n",
    "        return False\n",
    "    \n",
    "new = list(filter(fun,arr))\n",
    "print(new)"
   ]
  }
 ],
 "metadata": {
  "kernelspec": {
   "display_name": "Python 3 (ipykernel)",
   "language": "python",
   "name": "python3"
  },
  "language_info": {
   "codemirror_mode": {
    "name": "ipython",
    "version": 3
   },
   "file_extension": ".py",
   "mimetype": "text/x-python",
   "name": "python",
   "nbconvert_exporter": "python",
   "pygments_lexer": "ipython3",
   "version": "3.11.1"
  }
 },
 "nbformat": 4,
 "nbformat_minor": 5
}
