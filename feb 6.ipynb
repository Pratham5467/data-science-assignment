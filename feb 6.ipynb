{
 "cells": [
  {
   "cell_type": "markdown",
   "id": "2e8fb1f7",
   "metadata": {},
   "source": [
    "# Question 1"
   ]
  },
  {
   "cell_type": "code",
   "execution_count": 6,
   "id": "d7c99415",
   "metadata": {},
   "outputs": [
    {
     "name": "stdout",
     "output_type": "stream",
     "text": [
      "Flatten list =  [1, 2, 3, 4, 44, 55, 66, 34, 56, 78, 89, 34, 1, 2, 3, 1, 34, 55, 67, 78, 89, 4, 45, 22, 61, 34, 56]\n",
      "Product =  4134711838987085478833841242112000\n"
     ]
    }
   ],
   "source": [
    "from functools import reduce\n",
    "def fun(arr):\n",
    "    new=[]\n",
    "    for x in arr:\n",
    "        if type(x)==int:\n",
    "            new.append(x)\n",
    "        elif type(x)==list or type(x)==tuple:\n",
    "            for y in x:\n",
    "                if type(y)==int:\n",
    "                    new.append(y)\n",
    "        elif type(x)==dict:\n",
    "            for x,y in x.items():\n",
    "                if type(x)==int:\n",
    "                    new.append(x)\n",
    "                if type(y)==int:\n",
    "                    new.append(y)\n",
    "                if type(x)==list or type(x)==tuple:\n",
    "                    for j in x:\n",
    "                        if type(j)==int:\n",
    "                            new.append(j)\n",
    "                if type(y)==list or type(y)==tuple:\n",
    "                    for j in y:\n",
    "                        if type(j)==int:\n",
    "                            new.append(j)\n",
    "                        \n",
    "        elif type(x)==set:\n",
    "            for i in x:\n",
    "                if type(i)==int:\n",
    "                    new.append(i)\n",
    "        else:\n",
    "            pass\n",
    "    return new\n",
    "\n",
    "list1 = [1,2,3,4, [44,55,66, True], False, (34,56,78,89,34), \n",
    "         {1,2,3,3,2,1}, {1:34, \"key2\": [55, 67, 78, 89], 4: (45,22, 61, 34)},\n",
    "         [56, 'data science'], 'Machine Learning']\n",
    "\n",
    "result = fun(list1)\n",
    "print('Flatten list = ',result)\n",
    "print('Product = ',reduce(lambda x,y:x*y,result))\n"
   ]
  },
  {
   "cell_type": "markdown",
   "id": "17ce371e",
   "metadata": {},
   "source": [
    "# Question 2"
   ]
  },
  {
   "cell_type": "code",
   "execution_count": 7,
   "id": "b590e2ca",
   "metadata": {},
   "outputs": [
    {
     "name": "stdout",
     "output_type": "stream",
     "text": [
      "String = i want to become a data scientist\n",
      "Orignal String =  i want to become a data scientist\n",
      "Encrypted String =  r$dzmg$gl$yvxlnv$z$wzgz$hxrvmgrhg\n"
     ]
    }
   ],
   "source": [
    "s = input('String = ')\n",
    "s = s.lower()\n",
    "print('Orignal String = ',s)\n",
    "new = ''\n",
    "for x in s:\n",
    "    if x!=' ':\n",
    "        new += chr(97+(122-ord(x)))\n",
    "    else:\n",
    "        new += '$'\n",
    "print('Encrypted String = ',new)"
   ]
  },
  {
   "cell_type": "code",
   "execution_count": 8,
   "id": "b5dd13fc",
   "metadata": {},
   "outputs": [
    {
     "name": "stdout",
     "output_type": "stream",
     "text": [
      "<class 'list'>\n",
      "1\n"
     ]
    }
   ],
   "source": [
    "d=[]\n",
    "print(type(d))\n",
    "if type(d) == list:\n",
    "    print('1')"
   ]
  }
 ],
 "metadata": {
  "kernelspec": {
   "display_name": "Python 3 (ipykernel)",
   "language": "python",
   "name": "python3"
  },
  "language_info": {
   "codemirror_mode": {
    "name": "ipython",
    "version": 3
   },
   "file_extension": ".py",
   "mimetype": "text/x-python",
   "name": "python",
   "nbconvert_exporter": "python",
   "pygments_lexer": "ipython3",
   "version": "3.11.1"
  }
 },
 "nbformat": 4,
 "nbformat_minor": 5
}
