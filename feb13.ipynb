{
 "cells": [
  {
   "cell_type": "markdown",
   "id": "b2d7d20d-3112-4ea1-9698-01c54418b58a",
   "metadata": {},
   "source": [
    "# Q1. Explain why we have to use the Exception class while creating a Custom Exception.\n",
    "behavior of the exception when it is thrown and caught in the program. This behavior is defined in the form of an exception \n",
    "class, which is a type of class that extends or inherits from the built-in Exception class.\n",
    "\n",
    "The reason we use the Exception class as the parent class for our custom exception is because it provides a standard interface\n",
    "and behavior for all exceptions in the language. This means that our custom exception can inherit all the properties and\n",
    "methods of the Exception class, such as the ability to set and get the error message, stack trace, and other information \n",
    "about the exception.\n",
    "\n",
    "In addition, using the Exception class as the parent class allows our custom exception to be caught by any catch block that\n",
    "is \n",
    "designed to catch exceptions of the Exception type. This makes it easier for other developers to understand and handle our \n",
    "custom exception in their own code.\n",
    "\n",
    "Therefore, by inheriting from the Exception class, we can define a custom exception class that is compatible with the standard\n",
    "exception handling mechanisms of the language and provides a consistent and understandable interface for developers who may \n",
    "need to use or handle our custom exception."
   ]
  },
  {
   "cell_type": "markdown",
   "id": "d167f4d0-0a8e-405b-9c6e-66b964e837c4",
   "metadata": {},
   "source": [
    "# Q2. Write a python program to print Python Exception Hierarchy."
   ]
  },
  {
   "cell_type": "code",
   "execution_count": 7,
   "id": "9b913e97-b216-4231-b7d7-fd580c0b0a89",
   "metadata": {},
   "outputs": [
    {
     "name": "stdout",
     "output_type": "stream",
     "text": [
      "<class 'BaseException'>\n"
     ]
    }
   ],
   "source": [
    "def print_exception_hierarchy(exception, depth=0):\n",
    "    print(' ' * depth + str(exception))\n",
    "    if issubclass(type(exception), BaseException):\n",
    "        for sub_exception in exception.__subclasses__():\n",
    "            print_exception_hierarchy(sub_exception, depth + 4)\n",
    "\n",
    "print_exception_hierarchy(BaseException)"
   ]
  },
  {
   "cell_type": "markdown",
   "id": "86a666c7-79a4-456e-a639-7d1305fec7f8",
   "metadata": {},
   "source": [
    "# Q3. What errors are defined in the ArithmeticError class? Explain any two with an example.\n",
    "The ArithmeticError class is a built-in exception class in Python that serves as the base class for all exceptions that \n",
    "occur during arithmetic operations. The exceptions that are defined in the ArithmeticError class are as follows:\n",
    "\n",
    "FloatingPointError: This exception is raised when a floating-point arithmetic operation fails. For example, if you try to\n",
    "divide a number by zero or take the square root of a negative number, a FloatingPointError will be raised. \n",
    "Here's an example:\n"
   ]
  },
  {
   "cell_type": "code",
   "execution_count": 6,
   "id": "3d1bb6b6-5490-4bbc-8456-a871017d741c",
   "metadata": {},
   "outputs": [
    {
     "ename": "ValueError",
     "evalue": "math domain error",
     "output_type": "error",
     "traceback": [
      "\u001b[0;31m---------------------------------------------------------------------------\u001b[0m",
      "\u001b[0;31mValueError\u001b[0m                                Traceback (most recent call last)",
      "Cell \u001b[0;32mIn[6], line 5\u001b[0m\n\u001b[1;32m      3\u001b[0m x \u001b[38;5;241m=\u001b[39m \u001b[38;5;241m-\u001b[39m\u001b[38;5;241m1.0\u001b[39m\n\u001b[1;32m      4\u001b[0m \u001b[38;5;28;01mtry\u001b[39;00m:\n\u001b[0;32m----> 5\u001b[0m     result \u001b[38;5;241m=\u001b[39m \u001b[43mmath\u001b[49m\u001b[38;5;241;43m.\u001b[39;49m\u001b[43msqrt\u001b[49m\u001b[43m(\u001b[49m\u001b[43mx\u001b[49m\u001b[43m)\u001b[49m\n\u001b[1;32m      6\u001b[0m     \u001b[38;5;28mprint\u001b[39m(result)\n\u001b[1;32m      7\u001b[0m \u001b[38;5;28;01mexcept\u001b[39;00m \u001b[38;5;167;01mFloatingPointError\u001b[39;00m:\n",
      "\u001b[0;31mValueError\u001b[0m: math domain error"
     ]
    }
   ],
   "source": [
    "import math\n",
    "\n",
    "x = -1.0\n",
    "try:\n",
    "    result = math.sqrt(x)\n",
    "    print(result)\n",
    "except FloatingPointError:\n",
    "    print(f\"Error: can't take square root of {x}\")"
   ]
  },
  {
   "cell_type": "markdown",
   "id": "7c59a045-4a1d-4436-9a69-544e8804fbce",
   "metadata": {},
   "source": [
    "ZeroDivisionError: This exception is raised when you try to divide a number by zero.\n",
    "Here's an example:\n"
   ]
  },
  {
   "cell_type": "code",
   "execution_count": 5,
   "id": "72671db9-16ea-4d92-932a-a1cb8648faa6",
   "metadata": {},
   "outputs": [
    {
     "name": "stdout",
     "output_type": "stream",
     "text": [
      "Error: division by zero\n"
     ]
    }
   ],
   "source": [
    "x = 10\n",
    "y = 0\n",
    "try:\n",
    "    result = x / y\n",
    "    print(result)\n",
    "except ZeroDivisionError:\n",
    "    print(\"Error: division by zero\")"
   ]
  },
  {
   "cell_type": "markdown",
   "id": "eb7ff72e-1149-4cb5-a557-9230d9bac33c",
   "metadata": {},
   "source": [
    "Q4. Why LookupError class is used? Explain with an example KeyError and IndexError.\n",
    "The LookupError class is a built-in exception class in Python that serves as the base class for all exceptions\n",
    "that occur when a lookup or index operation fails. The exceptions that are defined in the LookupError class are as follows:\n",
    "\n",
    "IndexError: This exception is raised when you try to access an index that is out of range for a sequence, such\n",
    "as a list or a tuple. For example:"
   ]
  },
  {
   "cell_type": "code",
   "execution_count": 4,
   "id": "c42734ab-3fee-4925-8485-f4347c199fdd",
   "metadata": {},
   "outputs": [
    {
     "name": "stdout",
     "output_type": "stream",
     "text": [
      "Error: index out of range\n"
     ]
    }
   ],
   "source": [
    "lst = [1, 2, 3]\n",
    "try:\n",
    "    print(lst[4])\n",
    "except IndexError:\n",
    "    print(\"Error: index out of range\")\n"
   ]
  },
  {
   "cell_type": "code",
   "execution_count": 3,
   "id": "4501b189-1071-4439-a2e7-33385ba75d52",
   "metadata": {},
   "outputs": [
    {
     "name": "stdout",
     "output_type": "stream",
     "text": [
      "Error: key not found\n"
     ]
    }
   ],
   "source": [
    "d = {'a': 1, 'b': 2, 'c': 3}\n",
    "try:\n",
    "    print(d['d'])\n",
    "except KeyError:\n",
    "    print(\"Error: key not found\")"
   ]
  },
  {
   "cell_type": "markdown",
   "id": "865ca171-dabc-4952-987d-a61439f8d406",
   "metadata": {},
   "source": [
    "# Q5. Explain ImportError. What is ModuleNotFoundError?\n",
    "In Python, the ImportError is a built-in exception class that is raised when a module or a package cannot be imported.\n",
    "This exception can occur due to a variety of reasons, such as a missing module, an incorrect module name, or an improperly \n",
    "installed module. Here's an example:\n"
   ]
  },
  {
   "cell_type": "code",
   "execution_count": 2,
   "id": "0fb93875-496b-4f01-8b58-c31bd215c6c5",
   "metadata": {},
   "outputs": [
    {
     "name": "stdout",
     "output_type": "stream",
     "text": [
      "Error: failed to import module\n"
     ]
    }
   ],
   "source": [
    "try:\n",
    "    import some_module\n",
    "except ImportError:\n",
    "    print(\"Error: failed to import module\")"
   ]
  },
  {
   "cell_type": "markdown",
   "id": "a952d54c-8a48-41c1-8376-a055ef2f586b",
   "metadata": {},
   "source": [
    "In Python 3.6 and later versions, a more specific exception called ModuleNotFoundError was added as a subclass of \n",
    "ImportError. ModuleNotFoundError is raised when a module or package cannot be found. It is more specific than\n",
    "ImportError and can be used to distinguish between missing modules and other import errors. Here's an example:"
   ]
  },
  {
   "cell_type": "code",
   "execution_count": 1,
   "id": "43d015a9-310a-4bb3-ba76-50e37c8058d1",
   "metadata": {},
   "outputs": [
    {
     "name": "stdout",
     "output_type": "stream",
     "text": [
      "Error: module not found\n"
     ]
    }
   ],
   "source": [
    "try:\n",
    "    import some_missing_module\n",
    "except ModuleNotFoundError:\n",
    "    print(\"Error: module not found\")"
   ]
  },
  {
   "cell_type": "markdown",
   "id": "65d86c61-0cd6-4890-9031-d1173e3f3e74",
   "metadata": {},
   "source": [
    "# Q6. List down some best practices for exception handling in python.\n",
    "Exception handling is an important aspect of writing reliable and robust Python code. Here are some best practices for \n",
    "exception handling in Python:\n",
    "\n",
    "Be specific in catching exceptions: Catch only the exceptions that you are expecting and be as specific as possible.\n",
    "Avoid catching generic exceptions like Exception or BaseException \n",
    "as they can catch unexpected errors as well.\n",
    "\n",
    "Don't catch exceptions that you can't handle: If you catch an exception that you can't handle, you may end up suppressing\n",
    "the error and making it difficult to debug. Only catch the exceptions that you know how to handle.\n",
    "\n",
    "Use finally block for clean-up code: Use finally block for any clean-up code that needs to be executed, regardless of\n",
    "whether an exception occurred or not. This can be useful for releasing resources like file handles, network connections, etc.\n",
    "\n",
    "Handle exceptions as close to the source as possible: Handle exceptions as close to the source of the error as possible. \n",
    "This can help in localizing the problem and making it easier to debug.\n",
    "\n",
    "Use exception chaining to preserve error information: When catching an exception, consider chaining it to the original \n",
    "exception using the raise ... from syntax. This can preserve the error information and make it easier to debug the problem.\n",
    "\n",
    "Document the exceptions that can be raised: Document the exceptions that can be raised by a function or a module.\n",
    "This can help other developers understand the potential errors that can occur and how to handle them.\n",
    "\n",
    "Keep the exception handling code separate from the main code: Keep the exception handling code separate \n",
    "from the main code to make it easier to read and understand. Don't mix exception handling code with the main code\n",
    "as it can make the code harder to read and maintain.\n",
    "\n",
    "Use assertions for debugging: Use assertions to check for conditions that are not expected to happen. Assertions can help in debugging the code and c"
   ]
  }
 ],
 "metadata": {
  "kernelspec": {
   "display_name": "Python 3 (ipykernel)",
   "language": "python",
   "name": "python3"
  },
  "language_info": {
   "codemirror_mode": {
    "name": "ipython",
    "version": 3
   },
   "file_extension": ".py",
   "mimetype": "text/x-python",
   "name": "python",
   "nbconvert_exporter": "python",
   "pygments_lexer": "ipython3",
   "version": "3.10.8"
  }
 },
 "nbformat": 4,
 "nbformat_minor": 5
}
